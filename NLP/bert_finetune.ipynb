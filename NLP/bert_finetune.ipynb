{
 "cells": [
  {
   "cell_type": "code",
   "execution_count": 125,
   "metadata": {},
   "outputs": [],
   "source": [
    "import pandas as pd"
   ]
  },
  {
   "cell_type": "code",
   "execution_count": 126,
   "metadata": {},
   "outputs": [
    {
     "data": {
      "text/html": [
       "<div>\n",
       "<style scoped>\n",
       "    .dataframe tbody tr th:only-of-type {\n",
       "        vertical-align: middle;\n",
       "    }\n",
       "\n",
       "    .dataframe tbody tr th {\n",
       "        vertical-align: top;\n",
       "    }\n",
       "\n",
       "    .dataframe thead th {\n",
       "        text-align: right;\n",
       "    }\n",
       "</style>\n",
       "<table border=\"1\" class=\"dataframe\">\n",
       "  <thead>\n",
       "    <tr style=\"text-align: right;\">\n",
       "      <th></th>\n",
       "      <th>Food Name</th>\n",
       "      <th>Label</th>\n",
       "    </tr>\n",
       "  </thead>\n",
       "  <tbody>\n",
       "    <tr>\n",
       "      <th>57</th>\n",
       "      <td>Raw Egg</td>\n",
       "      <td>Not Junk</td>\n",
       "    </tr>\n",
       "    <tr>\n",
       "      <th>184</th>\n",
       "      <td>Coffee, Prepared From Grounds</td>\n",
       "      <td>Not Junk</td>\n",
       "    </tr>\n",
       "    <tr>\n",
       "      <th>403</th>\n",
       "      <td>Seven Seas, Omega 3 Capsules, Max Strength</td>\n",
       "      <td>Not Junk</td>\n",
       "    </tr>\n",
       "    <tr>\n",
       "      <th>67</th>\n",
       "      <td>Tesco, Flat Peaches</td>\n",
       "      <td>Not Junk</td>\n",
       "    </tr>\n",
       "    <tr>\n",
       "      <th>220</th>\n",
       "      <td>Optimum Nutrition, Micronized Creatine Powder</td>\n",
       "      <td>Not Junk</td>\n",
       "    </tr>\n",
       "    <tr>\n",
       "      <th>494</th>\n",
       "      <td>Prosciutto</td>\n",
       "      <td>Not Junk</td>\n",
       "    </tr>\n",
       "    <tr>\n",
       "      <th>430</th>\n",
       "      <td>Soybeans, Cooked from Dried</td>\n",
       "      <td>Not Junk</td>\n",
       "    </tr>\n",
       "    <tr>\n",
       "      <th>240</th>\n",
       "      <td>Bao mooli</td>\n",
       "      <td>Not Junk</td>\n",
       "    </tr>\n",
       "    <tr>\n",
       "      <th>218</th>\n",
       "      <td>Nectarine, Fresh</td>\n",
       "      <td>Not Junk</td>\n",
       "    </tr>\n",
       "    <tr>\n",
       "      <th>49</th>\n",
       "      <td>Diet Coke, Caffeine Free</td>\n",
       "      <td>Junk</td>\n",
       "    </tr>\n",
       "  </tbody>\n",
       "</table>\n",
       "</div>"
      ],
      "text/plain": [
       "                                         Food Name     Label\n",
       "57                                         Raw Egg  Not Junk\n",
       "184                  Coffee, Prepared From Grounds  Not Junk\n",
       "403     Seven Seas, Omega 3 Capsules, Max Strength  Not Junk\n",
       "67                             Tesco, Flat Peaches  Not Junk\n",
       "220  Optimum Nutrition, Micronized Creatine Powder  Not Junk\n",
       "494                                     Prosciutto  Not Junk\n",
       "430                    Soybeans, Cooked from Dried  Not Junk\n",
       "240                                      Bao mooli  Not Junk\n",
       "218                               Nectarine, Fresh  Not Junk\n",
       "49                        Diet Coke, Caffeine Free      Junk"
      ]
     },
     "execution_count": 126,
     "metadata": {},
     "output_type": "execute_result"
    }
   ],
   "source": [
    "df = pd.read_csv(\"labelled_training_data.csv\")\n",
    "df.sample(10)"
   ]
  },
  {
   "cell_type": "markdown",
   "metadata": {},
   "source": [
    "Convert labels to integers (0 for Not Junk, 1 for Junk)"
   ]
  },
  {
   "cell_type": "code",
   "execution_count": 127,
   "metadata": {},
   "outputs": [],
   "source": [
    "label_map = {\"Not Junk\":0, \"Junk\":1}\n",
    "df[\"Label\"] = df[\"Label\"].map(label_map)"
   ]
  },
  {
   "cell_type": "markdown",
   "metadata": {},
   "source": [
    "BERT requires input in a specific format (tokenized text), so we’ll use the BertTokenizer to preprocess the food item descriptions."
   ]
  },
  {
   "cell_type": "code",
   "execution_count": 128,
   "metadata": {},
   "outputs": [
    {
     "name": "stderr",
     "output_type": "stream",
     "text": [
      "c:\\Python\\Lib\\site-packages\\transformers\\tokenization_utils_base.py:1601: FutureWarning: `clean_up_tokenization_spaces` was not set. It will be set to `True` by default. This behavior will be depracted in transformers v4.45, and will be then set to `False` by default. For more details check this issue: https://github.com/huggingface/transformers/issues/31884\n",
      "  warnings.warn(\n"
     ]
    }
   ],
   "source": [
    "from transformers import BertTokenizer\n",
    "\n",
    "# Load the BERT tokenizer\n",
    "tokenizer = BertTokenizer.from_pretrained(\"bert-base-uncased\")\n",
    "\n",
    "# Tokenize the data\n",
    "def encode_data(texts, labels, tokenizer):\n",
    "    encodings = tokenizer(texts, truncation=True, padding=True, max_length=64)\n",
    "    return encodings, labels\n"
   ]
  },
  {
   "cell_type": "markdown",
   "metadata": {},
   "source": [
    "Now, create a custom PyTorch Dataset to return the tokenized data in the format BERT expects."
   ]
  },
  {
   "cell_type": "code",
   "execution_count": 129,
   "metadata": {},
   "outputs": [],
   "source": [
    "import torch\n",
    "from torch.utils.data import Dataset\n",
    "\n",
    "class FoodDataset(Dataset):\n",
    "    def __init__(self, texts, labels, tokenizer):\n",
    "        self.encodings = tokenizer(texts, truncation=True, padding=True, max_length=64)\n",
    "        self.labels = labels\n",
    "    def __getitem__(self, index):\n",
    "        item = {key: torch.tensor(val[index]) for key, val in self.encodings.items()}\n",
    "        item[\"labels\"] = torch.tensor(self.labels[index])\n",
    "        return item\n",
    "    def __len__(self):\n",
    "        return len(self.labels)\n",
    "\n",
    "# Prepare the dataset\n",
    "training_texts = df[\"Food Name\"].tolist()\n",
    "training_label = df[\"Label\"].tolist()\n",
    "\n",
    "# Create the dataset\n",
    "training_dataset = FoodDataset(training_texts, training_label, tokenizer)"
   ]
  },
  {
   "cell_type": "markdown",
   "metadata": {},
   "source": [
    "Check if GPU is available"
   ]
  },
  {
   "cell_type": "code",
   "execution_count": 130,
   "metadata": {},
   "outputs": [
    {
     "name": "stdout",
     "output_type": "stream",
     "text": [
      "Using device: cuda\n"
     ]
    }
   ],
   "source": [
    "device = torch.device(\"cuda\" if torch.cuda.is_available() else \"cpu\")\n",
    "print(f\"Using device: {device}\")"
   ]
  },
  {
   "cell_type": "markdown",
   "metadata": {},
   "source": [
    "Now, load a pre-trained BERT model with a classification head."
   ]
  },
  {
   "cell_type": "code",
   "execution_count": 131,
   "metadata": {},
   "outputs": [
    {
     "name": "stderr",
     "output_type": "stream",
     "text": [
      "A parameter name that contains `beta` will be renamed internally to `bias`. Please use a different name to suppress this warning.\n",
      "A parameter name that contains `gamma` will be renamed internally to `weight`. Please use a different name to suppress this warning.\n",
      "A parameter name that contains `beta` will be renamed internally to `bias`. Please use a different name to suppress this warning.\n",
      "A parameter name that contains `gamma` will be renamed internally to `weight`. Please use a different name to suppress this warning.\n",
      "A parameter name that contains `beta` will be renamed internally to `bias`. Please use a different name to suppress this warning.\n",
      "A parameter name that contains `gamma` will be renamed internally to `weight`. Please use a different name to suppress this warning.\n",
      "A parameter name that contains `beta` will be renamed internally to `bias`. Please use a different name to suppress this warning.\n",
      "A parameter name that contains `gamma` will be renamed internally to `weight`. Please use a different name to suppress this warning.\n",
      "A parameter name that contains `beta` will be renamed internally to `bias`. Please use a different name to suppress this warning.\n",
      "A parameter name that contains `gamma` will be renamed internally to `weight`. Please use a different name to suppress this warning.\n",
      "A parameter name that contains `beta` will be renamed internally to `bias`. Please use a different name to suppress this warning.\n",
      "A parameter name that contains `gamma` will be renamed internally to `weight`. Please use a different name to suppress this warning.\n",
      "A parameter name that contains `beta` will be renamed internally to `bias`. Please use a different name to suppress this warning.\n",
      "A parameter name that contains `gamma` will be renamed internally to `weight`. Please use a different name to suppress this warning.\n",
      "A parameter name that contains `beta` will be renamed internally to `bias`. Please use a different name to suppress this warning.\n",
      "A parameter name that contains `gamma` will be renamed internally to `weight`. Please use a different name to suppress this warning.\n",
      "A parameter name that contains `beta` will be renamed internally to `bias`. Please use a different name to suppress this warning.\n",
      "A parameter name that contains `gamma` will be renamed internally to `weight`. Please use a different name to suppress this warning.\n",
      "A parameter name that contains `beta` will be renamed internally to `bias`. Please use a different name to suppress this warning.\n",
      "A parameter name that contains `gamma` will be renamed internally to `weight`. Please use a different name to suppress this warning.\n",
      "A parameter name that contains `beta` will be renamed internally to `bias`. Please use a different name to suppress this warning.\n",
      "A parameter name that contains `gamma` will be renamed internally to `weight`. Please use a different name to suppress this warning.\n",
      "A parameter name that contains `beta` will be renamed internally to `bias`. Please use a different name to suppress this warning.\n",
      "A parameter name that contains `gamma` will be renamed internally to `weight`. Please use a different name to suppress this warning.\n",
      "A parameter name that contains `beta` will be renamed internally to `bias`. Please use a different name to suppress this warning.\n",
      "A parameter name that contains `gamma` will be renamed internally to `weight`. Please use a different name to suppress this warning.\n",
      "A parameter name that contains `beta` will be renamed internally to `bias`. Please use a different name to suppress this warning.\n",
      "A parameter name that contains `gamma` will be renamed internally to `weight`. Please use a different name to suppress this warning.\n",
      "A parameter name that contains `beta` will be renamed internally to `bias`. Please use a different name to suppress this warning.\n",
      "A parameter name that contains `gamma` will be renamed internally to `weight`. Please use a different name to suppress this warning.\n",
      "A parameter name that contains `beta` will be renamed internally to `bias`. Please use a different name to suppress this warning.\n",
      "A parameter name that contains `gamma` will be renamed internally to `weight`. Please use a different name to suppress this warning.\n",
      "A parameter name that contains `beta` will be renamed internally to `bias`. Please use a different name to suppress this warning.\n",
      "A parameter name that contains `gamma` will be renamed internally to `weight`. Please use a different name to suppress this warning.\n",
      "A parameter name that contains `beta` will be renamed internally to `bias`. Please use a different name to suppress this warning.\n",
      "A parameter name that contains `gamma` will be renamed internally to `weight`. Please use a different name to suppress this warning.\n",
      "A parameter name that contains `beta` will be renamed internally to `bias`. Please use a different name to suppress this warning.\n",
      "A parameter name that contains `gamma` will be renamed internally to `weight`. Please use a different name to suppress this warning.\n",
      "A parameter name that contains `beta` will be renamed internally to `bias`. Please use a different name to suppress this warning.\n",
      "A parameter name that contains `gamma` will be renamed internally to `weight`. Please use a different name to suppress this warning.\n",
      "A parameter name that contains `beta` will be renamed internally to `bias`. Please use a different name to suppress this warning.\n",
      "A parameter name that contains `gamma` will be renamed internally to `weight`. Please use a different name to suppress this warning.\n",
      "A parameter name that contains `beta` will be renamed internally to `bias`. Please use a different name to suppress this warning.\n",
      "A parameter name that contains `gamma` will be renamed internally to `weight`. Please use a different name to suppress this warning.\n",
      "A parameter name that contains `beta` will be renamed internally to `bias`. Please use a different name to suppress this warning.\n",
      "A parameter name that contains `gamma` will be renamed internally to `weight`. Please use a different name to suppress this warning.\n",
      "A parameter name that contains `beta` will be renamed internally to `bias`. Please use a different name to suppress this warning.\n",
      "A parameter name that contains `gamma` will be renamed internally to `weight`. Please use a different name to suppress this warning.\n",
      "A parameter name that contains `beta` will be renamed internally to `bias`. Please use a different name to suppress this warning.\n",
      "A parameter name that contains `gamma` will be renamed internally to `weight`. Please use a different name to suppress this warning.\n",
      "A parameter name that contains `beta` will be renamed internally to `bias`. Please use a different name to suppress this warning.\n",
      "A parameter name that contains `gamma` will be renamed internally to `weight`. Please use a different name to suppress this warning.\n",
      "Some weights of BertForSequenceClassification were not initialized from the model checkpoint at bert-base-uncased and are newly initialized: ['classifier.bias', 'classifier.weight']\n",
      "You should probably TRAIN this model on a down-stream task to be able to use it for predictions and inference.\n"
     ]
    }
   ],
   "source": [
    "from transformers import BertForSequenceClassification\n",
    "\n",
    "model = BertForSequenceClassification.from_pretrained(\"bert-base-uncased\", num_labels=2)"
   ]
  },
  {
   "cell_type": "markdown",
   "metadata": {},
   "source": [
    "Move the model to the GPU"
   ]
  },
  {
   "cell_type": "code",
   "execution_count": 132,
   "metadata": {},
   "outputs": [
    {
     "data": {
      "text/plain": [
       "BertForSequenceClassification(\n",
       "  (bert): BertModel(\n",
       "    (embeddings): BertEmbeddings(\n",
       "      (word_embeddings): Embedding(30522, 768, padding_idx=0)\n",
       "      (position_embeddings): Embedding(512, 768)\n",
       "      (token_type_embeddings): Embedding(2, 768)\n",
       "      (LayerNorm): LayerNorm((768,), eps=1e-12, elementwise_affine=True)\n",
       "      (dropout): Dropout(p=0.1, inplace=False)\n",
       "    )\n",
       "    (encoder): BertEncoder(\n",
       "      (layer): ModuleList(\n",
       "        (0-11): 12 x BertLayer(\n",
       "          (attention): BertAttention(\n",
       "            (self): BertSdpaSelfAttention(\n",
       "              (query): Linear(in_features=768, out_features=768, bias=True)\n",
       "              (key): Linear(in_features=768, out_features=768, bias=True)\n",
       "              (value): Linear(in_features=768, out_features=768, bias=True)\n",
       "              (dropout): Dropout(p=0.1, inplace=False)\n",
       "            )\n",
       "            (output): BertSelfOutput(\n",
       "              (dense): Linear(in_features=768, out_features=768, bias=True)\n",
       "              (LayerNorm): LayerNorm((768,), eps=1e-12, elementwise_affine=True)\n",
       "              (dropout): Dropout(p=0.1, inplace=False)\n",
       "            )\n",
       "          )\n",
       "          (intermediate): BertIntermediate(\n",
       "            (dense): Linear(in_features=768, out_features=3072, bias=True)\n",
       "            (intermediate_act_fn): GELUActivation()\n",
       "          )\n",
       "          (output): BertOutput(\n",
       "            (dense): Linear(in_features=3072, out_features=768, bias=True)\n",
       "            (LayerNorm): LayerNorm((768,), eps=1e-12, elementwise_affine=True)\n",
       "            (dropout): Dropout(p=0.1, inplace=False)\n",
       "          )\n",
       "        )\n",
       "      )\n",
       "    )\n",
       "    (pooler): BertPooler(\n",
       "      (dense): Linear(in_features=768, out_features=768, bias=True)\n",
       "      (activation): Tanh()\n",
       "    )\n",
       "  )\n",
       "  (dropout): Dropout(p=0.1, inplace=False)\n",
       "  (classifier): Linear(in_features=768, out_features=2, bias=True)\n",
       ")"
      ]
     },
     "execution_count": 132,
     "metadata": {},
     "output_type": "execute_result"
    }
   ],
   "source": [
    "model.to(device)"
   ]
  },
  {
   "cell_type": "markdown",
   "metadata": {},
   "source": [
    "Next, we define the training arguments, such as the number of epochs, batch size, etc."
   ]
  },
  {
   "cell_type": "code",
   "execution_count": 133,
   "metadata": {},
   "outputs": [],
   "source": [
    "from transformers import TrainingArguments\n",
    "\n",
    "training_args = TrainingArguments(\n",
    "    output_dir='./results',          # output directory\n",
    "    num_train_epochs=3,              # number of training epochs\n",
    "    per_device_train_batch_size=16,   # batch size for training\n",
    "    per_device_eval_batch_size=16,    # batch size for evaluation\n",
    "    warmup_steps=500,                # number of warmup steps for learning rate scheduler\n",
    "    weight_decay=0.01,               # strength of weight decay\n",
    "    logging_dir='./logs',            # directory for storing logs\n",
    "    logging_steps=10,\n",
    "    fp16=True                        # # Mixed precision for better performance on GPUs\n",
    ")"
   ]
  },
  {
   "cell_type": "markdown",
   "metadata": {},
   "source": [
    "Now, set up the Trainer class with the model, training arguments, and dataset."
   ]
  },
  {
   "cell_type": "code",
   "execution_count": 134,
   "metadata": {},
   "outputs": [
    {
     "name": "stderr",
     "output_type": "stream",
     "text": [
      "c:\\Python\\Lib\\site-packages\\accelerate\\accelerator.py:488: FutureWarning: `torch.cuda.amp.GradScaler(args...)` is deprecated. Please use `torch.amp.GradScaler('cuda', args...)` instead.\n",
      "  self.scaler = torch.cuda.amp.GradScaler(**kwargs)\n"
     ]
    }
   ],
   "source": [
    "from transformers import Trainer\n",
    "\n",
    "trainer = Trainer(\n",
    "    model=model, \n",
    "    args=training_args,\n",
    "    train_dataset=training_dataset,\n",
    "    eval_dataset=None  # You can add validation data here if available\n",
    ")"
   ]
  },
  {
   "cell_type": "markdown",
   "metadata": {},
   "source": [
    "Finally, train the model using the Trainer class."
   ]
  },
  {
   "cell_type": "code",
   "execution_count": 135,
   "metadata": {},
   "outputs": [
    {
     "data": {
      "application/vnd.jupyter.widget-view+json": {
       "model_id": "ce6bc3314c174134b82a0c9d0facade6",
       "version_major": 2,
       "version_minor": 0
      },
      "text/plain": [
       "  0%|          | 0/150 [00:00<?, ?it/s]"
      ]
     },
     "metadata": {},
     "output_type": "display_data"
    },
    {
     "name": "stdout",
     "output_type": "stream",
     "text": [
      "{'loss': 0.8405, 'grad_norm': 14.686184883117676, 'learning_rate': 9e-07, 'epoch': 0.2}\n",
      "{'loss': 0.7651, 'grad_norm': 7.164673328399658, 'learning_rate': 1.9e-06, 'epoch': 0.4}\n",
      "{'loss': 0.6021, 'grad_norm': 9.920513153076172, 'learning_rate': 2.9e-06, 'epoch': 0.6}\n",
      "{'loss': 0.5109, 'grad_norm': 5.5381879806518555, 'learning_rate': 3.9e-06, 'epoch': 0.8}\n",
      "{'loss': 0.424, 'grad_norm': 6.73447847366333, 'learning_rate': 4.9000000000000005e-06, 'epoch': 1.0}\n",
      "{'loss': 0.3655, 'grad_norm': 4.916894912719727, 'learning_rate': 5.9e-06, 'epoch': 1.2}\n",
      "{'loss': 0.2459, 'grad_norm': 6.577718734741211, 'learning_rate': 6.900000000000001e-06, 'epoch': 1.4}\n",
      "{'loss': 0.1739, 'grad_norm': 2.1829209327697754, 'learning_rate': 7.9e-06, 'epoch': 1.6}\n",
      "{'loss': 0.1466, 'grad_norm': 13.699748992919922, 'learning_rate': 8.9e-06, 'epoch': 1.8}\n",
      "{'loss': 0.2009, 'grad_norm': 4.182320594787598, 'learning_rate': 9.900000000000002e-06, 'epoch': 2.0}\n",
      "{'loss': 0.0747, 'grad_norm': 1.6432679891586304, 'learning_rate': 1.09e-05, 'epoch': 2.2}\n",
      "{'loss': 0.0801, 'grad_norm': 1.3923556804656982, 'learning_rate': 1.18e-05, 'epoch': 2.4}\n",
      "{'loss': 0.1136, 'grad_norm': 0.8879550695419312, 'learning_rate': 1.2800000000000001e-05, 'epoch': 2.6}\n",
      "{'loss': 0.0249, 'grad_norm': 0.4891655445098877, 'learning_rate': 1.3800000000000002e-05, 'epoch': 2.8}\n",
      "{'loss': 0.023, 'grad_norm': 0.4870889484882355, 'learning_rate': 1.48e-05, 'epoch': 3.0}\n",
      "{'train_runtime': 9.2439, 'train_samples_per_second': 259.63, 'train_steps_per_second': 16.227, 'train_loss': 0.3061061461766561, 'epoch': 3.0}\n"
     ]
    },
    {
     "data": {
      "text/plain": [
       "TrainOutput(global_step=150, training_loss=0.3061061461766561, metrics={'train_runtime': 9.2439, 'train_samples_per_second': 259.63, 'train_steps_per_second': 16.227, 'total_flos': 33299992944000.0, 'train_loss': 0.3061061461766561, 'epoch': 3.0})"
      ]
     },
     "execution_count": 135,
     "metadata": {},
     "output_type": "execute_result"
    }
   ],
   "source": [
    "# Train the model\n",
    "trainer.train()"
   ]
  },
  {
   "cell_type": "markdown",
   "metadata": {},
   "source": [
    "After training, you can use the model to classify new food items."
   ]
  },
  {
   "cell_type": "code",
   "execution_count": 136,
   "metadata": {},
   "outputs": [],
   "source": [
    "# Function to classify new items\n",
    "def classify_food_item(item):\n",
    "    # Move tokenizer output tensors to the GPU (if available)\n",
    "    encoding = tokenizer(item, truncation=True, padding=True, max_length=64, return_tensors='pt').to(device)\n",
    "    \n",
    "    # Ensure that the model and data are on the same device\n",
    "    outputs = model(**encoding)  # Model is already on GPU\n",
    "    logits = outputs.logits\n",
    "    \n",
    "    predicted_class = torch.argmax(logits, dim=1).item()\n",
    "    return 'Junk' if predicted_class == 1 else 'Not Junk'\n"
   ]
  },
  {
   "cell_type": "code",
   "execution_count": 137,
   "metadata": {},
   "outputs": [
    {
     "name": "stdout",
     "output_type": "stream",
     "text": [
      "The item 'cucumber' is classified as: Junk\n"
     ]
    }
   ],
   "source": [
    "# Example usage\n",
    "new_item = \"cucumber\"\n",
    "classification = classify_food_item(new_item)\n",
    "print(f\"The item '{new_item}' is classified as: {classification}\")"
   ]
  },
  {
   "cell_type": "code",
   "execution_count": 138,
   "metadata": {},
   "outputs": [],
   "source": [
    "import pandas as pd"
   ]
  },
  {
   "cell_type": "code",
   "execution_count": 139,
   "metadata": {},
   "outputs": [
    {
     "data": {
      "text/html": [
       "<div>\n",
       "<style scoped>\n",
       "    .dataframe tbody tr th:only-of-type {\n",
       "        vertical-align: middle;\n",
       "    }\n",
       "\n",
       "    .dataframe tbody tr th {\n",
       "        vertical-align: top;\n",
       "    }\n",
       "\n",
       "    .dataframe thead th {\n",
       "        text-align: right;\n",
       "    }\n",
       "</style>\n",
       "<table border=\"1\" class=\"dataframe\">\n",
       "  <thead>\n",
       "    <tr style=\"text-align: right;\">\n",
       "      <th></th>\n",
       "      <th>Food Name</th>\n",
       "      <th>Category</th>\n",
       "    </tr>\n",
       "  </thead>\n",
       "  <tbody>\n",
       "    <tr>\n",
       "      <th>0</th>\n",
       "      <td>Fage, Total, Greek Strained Yoghurt, 5% Fat</td>\n",
       "      <td>Dairy and Egg Products</td>\n",
       "    </tr>\n",
       "    <tr>\n",
       "      <th>1</th>\n",
       "      <td>Bulk, Pure Whey Isolate, Pistachio Ice Cream</td>\n",
       "      <td>Supplements</td>\n",
       "    </tr>\n",
       "    <tr>\n",
       "      <th>2</th>\n",
       "      <td>Eggs, Cooked</td>\n",
       "      <td>Dairy and Egg Products</td>\n",
       "    </tr>\n",
       "    <tr>\n",
       "      <th>3</th>\n",
       "      <td>Centrum Advance, Multivitamin</td>\n",
       "      <td>Supplements</td>\n",
       "    </tr>\n",
       "    <tr>\n",
       "      <th>4</th>\n",
       "      <td>Seven Seas, Omega 3 Capsules, Max Strength</td>\n",
       "      <td>Supplements</td>\n",
       "    </tr>\n",
       "  </tbody>\n",
       "</table>\n",
       "</div>"
      ],
      "text/plain": [
       "                                      Food Name                Category\n",
       "0   Fage, Total, Greek Strained Yoghurt, 5% Fat  Dairy and Egg Products\n",
       "1  Bulk, Pure Whey Isolate, Pistachio Ice Cream             Supplements\n",
       "2                                  Eggs, Cooked  Dairy and Egg Products\n",
       "3                 Centrum Advance, Multivitamin             Supplements\n",
       "4    Seven Seas, Omega 3 Capsules, Max Strength             Supplements"
      ]
     },
     "execution_count": 139,
     "metadata": {},
     "output_type": "execute_result"
    }
   ],
   "source": [
    "df = pd.read_csv(\"unlabelled_training_data.csv\")\n",
    "df.head()"
   ]
  },
  {
   "cell_type": "code",
   "execution_count": 140,
   "metadata": {},
   "outputs": [],
   "source": [
    "df[\"generated_label\"] = df[\"Food Name\"].apply(classify_food_item)"
   ]
  },
  {
   "cell_type": "code",
   "execution_count": 141,
   "metadata": {},
   "outputs": [
    {
     "data": {
      "text/html": [
       "<div>\n",
       "<style scoped>\n",
       "    .dataframe tbody tr th:only-of-type {\n",
       "        vertical-align: middle;\n",
       "    }\n",
       "\n",
       "    .dataframe tbody tr th {\n",
       "        vertical-align: top;\n",
       "    }\n",
       "\n",
       "    .dataframe thead th {\n",
       "        text-align: right;\n",
       "    }\n",
       "</style>\n",
       "<table border=\"1\" class=\"dataframe\">\n",
       "  <thead>\n",
       "    <tr style=\"text-align: right;\">\n",
       "      <th></th>\n",
       "      <th>Food Name</th>\n",
       "      <th>Category</th>\n",
       "      <th>generated_label</th>\n",
       "    </tr>\n",
       "  </thead>\n",
       "  <tbody>\n",
       "    <tr>\n",
       "      <th>361</th>\n",
       "      <td>White Rice, Steamed</td>\n",
       "      <td>Cereal Grains and Pasta</td>\n",
       "      <td>Not Junk</td>\n",
       "    </tr>\n",
       "    <tr>\n",
       "      <th>158</th>\n",
       "      <td>Prosciutto</td>\n",
       "      <td>Pork Products</td>\n",
       "      <td>Not Junk</td>\n",
       "    </tr>\n",
       "    <tr>\n",
       "      <th>480</th>\n",
       "      <td>Figs, Fresh</td>\n",
       "      <td>Fruits and Fruit Juices</td>\n",
       "      <td>Not Junk</td>\n",
       "    </tr>\n",
       "    <tr>\n",
       "      <th>641</th>\n",
       "      <td>Coffee, Prepared From Grounds</td>\n",
       "      <td>Beverages</td>\n",
       "      <td>Not Junk</td>\n",
       "    </tr>\n",
       "    <tr>\n",
       "      <th>275</th>\n",
       "      <td>Diet Coke, Caffeine Free</td>\n",
       "      <td>Beverages</td>\n",
       "      <td>Junk</td>\n",
       "    </tr>\n",
       "    <tr>\n",
       "      <th>362</th>\n",
       "      <td>Chicken Breast, Skin Removed Before Cooking</td>\n",
       "      <td>Poultry Products</td>\n",
       "      <td>Not Junk</td>\n",
       "    </tr>\n",
       "    <tr>\n",
       "      <th>310</th>\n",
       "      <td>Kimchi</td>\n",
       "      <td>Vegetables and Vegetable Products</td>\n",
       "      <td>Not Junk</td>\n",
       "    </tr>\n",
       "    <tr>\n",
       "      <th>199</th>\n",
       "      <td>Nectarine, Fresh</td>\n",
       "      <td>Fruits and Fruit Juices</td>\n",
       "      <td>Not Junk</td>\n",
       "    </tr>\n",
       "    <tr>\n",
       "      <th>523</th>\n",
       "      <td>Pistachio Nuts, Raw</td>\n",
       "      <td>Nut and Seed Products</td>\n",
       "      <td>Not Junk</td>\n",
       "    </tr>\n",
       "    <tr>\n",
       "      <th>90</th>\n",
       "      <td>Carrots, Cooked From Fresh</td>\n",
       "      <td>Vegetables and Vegetable Products</td>\n",
       "      <td>Not Junk</td>\n",
       "    </tr>\n",
       "    <tr>\n",
       "      <th>81</th>\n",
       "      <td>Reflex Nutrition, Fruit Punch Flavour Muscle B...</td>\n",
       "      <td>NaN</td>\n",
       "      <td>Not Junk</td>\n",
       "    </tr>\n",
       "    <tr>\n",
       "      <th>264</th>\n",
       "      <td>Centrum Advance, Multivitamin</td>\n",
       "      <td>Supplements</td>\n",
       "      <td>Not Junk</td>\n",
       "    </tr>\n",
       "    <tr>\n",
       "      <th>354</th>\n",
       "      <td>Alpro, Roasted Almond Beverage, Unsweetened</td>\n",
       "      <td>Beverages</td>\n",
       "      <td>Not Junk</td>\n",
       "    </tr>\n",
       "    <tr>\n",
       "      <th>221</th>\n",
       "      <td>Reflex Nutrition, Fruit Punch Flavour Muscle B...</td>\n",
       "      <td>NaN</td>\n",
       "      <td>Not Junk</td>\n",
       "    </tr>\n",
       "    <tr>\n",
       "      <th>211</th>\n",
       "      <td>Diet Coke, Caffeine Free</td>\n",
       "      <td>Beverages</td>\n",
       "      <td>Junk</td>\n",
       "    </tr>\n",
       "    <tr>\n",
       "      <th>63</th>\n",
       "      <td>Centrum Advance, Multivitamin</td>\n",
       "      <td>Supplements</td>\n",
       "      <td>Not Junk</td>\n",
       "    </tr>\n",
       "    <tr>\n",
       "      <th>54</th>\n",
       "      <td>Tesco, Flat Peaches</td>\n",
       "      <td>Fruits and Fruit Juices</td>\n",
       "      <td>Not Junk</td>\n",
       "    </tr>\n",
       "    <tr>\n",
       "      <th>601</th>\n",
       "      <td>Diet Coke, Caffeine Free</td>\n",
       "      <td>Beverages</td>\n",
       "      <td>Junk</td>\n",
       "    </tr>\n",
       "    <tr>\n",
       "      <th>299</th>\n",
       "      <td>White Rice, Steamed</td>\n",
       "      <td>Cereal Grains and Pasta</td>\n",
       "      <td>Not Junk</td>\n",
       "    </tr>\n",
       "    <tr>\n",
       "      <th>155</th>\n",
       "      <td>Jordans, Country Crisp, Chunky Nuts</td>\n",
       "      <td>Snacks</td>\n",
       "      <td>Not Junk</td>\n",
       "    </tr>\n",
       "  </tbody>\n",
       "</table>\n",
       "</div>"
      ],
      "text/plain": [
       "                                             Food Name  \\\n",
       "361                                White Rice, Steamed   \n",
       "158                                         Prosciutto   \n",
       "480                                        Figs, Fresh   \n",
       "641                      Coffee, Prepared From Grounds   \n",
       "275                           Diet Coke, Caffeine Free   \n",
       "362        Chicken Breast, Skin Removed Before Cooking   \n",
       "310                                             Kimchi   \n",
       "199                                   Nectarine, Fresh   \n",
       "523                                Pistachio Nuts, Raw   \n",
       "90                          Carrots, Cooked From Fresh   \n",
       "81   Reflex Nutrition, Fruit Punch Flavour Muscle B...   \n",
       "264                      Centrum Advance, Multivitamin   \n",
       "354        Alpro, Roasted Almond Beverage, Unsweetened   \n",
       "221  Reflex Nutrition, Fruit Punch Flavour Muscle B...   \n",
       "211                           Diet Coke, Caffeine Free   \n",
       "63                       Centrum Advance, Multivitamin   \n",
       "54                                 Tesco, Flat Peaches   \n",
       "601                           Diet Coke, Caffeine Free   \n",
       "299                                White Rice, Steamed   \n",
       "155                Jordans, Country Crisp, Chunky Nuts   \n",
       "\n",
       "                              Category generated_label  \n",
       "361            Cereal Grains and Pasta        Not Junk  \n",
       "158                      Pork Products        Not Junk  \n",
       "480            Fruits and Fruit Juices        Not Junk  \n",
       "641                          Beverages        Not Junk  \n",
       "275                          Beverages            Junk  \n",
       "362                   Poultry Products        Not Junk  \n",
       "310  Vegetables and Vegetable Products        Not Junk  \n",
       "199            Fruits and Fruit Juices        Not Junk  \n",
       "523              Nut and Seed Products        Not Junk  \n",
       "90   Vegetables and Vegetable Products        Not Junk  \n",
       "81                                 NaN        Not Junk  \n",
       "264                        Supplements        Not Junk  \n",
       "354                          Beverages        Not Junk  \n",
       "221                                NaN        Not Junk  \n",
       "211                          Beverages            Junk  \n",
       "63                         Supplements        Not Junk  \n",
       "54             Fruits and Fruit Juices        Not Junk  \n",
       "601                          Beverages            Junk  \n",
       "299            Cereal Grains and Pasta        Not Junk  \n",
       "155                             Snacks        Not Junk  "
      ]
     },
     "execution_count": 141,
     "metadata": {},
     "output_type": "execute_result"
    }
   ],
   "source": [
    "df.sample(20)"
   ]
  }
 ],
 "metadata": {
  "kernelspec": {
   "display_name": "Python 3",
   "language": "python",
   "name": "python3"
  },
  "language_info": {
   "codemirror_mode": {
    "name": "ipython",
    "version": 3
   },
   "file_extension": ".py",
   "mimetype": "text/x-python",
   "name": "python",
   "nbconvert_exporter": "python",
   "pygments_lexer": "ipython3",
   "version": "3.12.2"
  }
 },
 "nbformat": 4,
 "nbformat_minor": 2
}
